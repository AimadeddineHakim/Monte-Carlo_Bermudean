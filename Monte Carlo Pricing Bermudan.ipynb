{
 "cells": [
  {
   "cell_type": "markdown",
   "metadata": {},
   "source": [
    "# Computing the price of a Bermudean call option"
   ]
  },
  {
   "cell_type": "markdown",
   "metadata": {},
   "source": [
    "We import the necessary libraries."
   ]
  },
  {
   "cell_type": "code",
   "execution_count": 21,
   "metadata": {
    "id": "ND2PLGDvrSTu"
   },
   "outputs": [],
   "source": [
    "import math\n",
    "import numpy as np\n",
    "import scipy.stats\n",
    "from tqdm import tqdm\n",
    "import matplotlib.pyplot as plt"
   ]
  },
  {
   "cell_type": "markdown",
   "metadata": {},
   "source": [
    "A Bermudean option is a type of exotic options contract that can only be exercised on predetermined dates. In other words, it gives the holder of the option the right to exercise on a specific set of dates during the life of the option. The name is quite telling because it is a blend of the two other popular vanilla options, namely the American option and European option, and it got its name from the place Bermuda, which lies between these two places.  \n",
    "In a frictionless complete market, the price of a Bermudean option is given by :  \n",
    "\n",
    "$$V_0(s) = \\max_{t \\in \\{t_1, t_2, \\ldots, t_N\\}} \\mathbb{E} \\left[ e^{-rt} g(S_t) \\, \\middle| \\, S_0 = s \\right]$$\n",
    "\n",
    "Where :\n",
    "\n",
    "- $V_0(s)$ represents the price of the Bermudan option at time $t = 0$ when the underlying stock price is $S_0 = s$.\n",
    "- $\\tau$ represents the stopping time, which determines when the option holder can exercise the option. The set $\\{\\tau_1, \\tau_2, \\ldots, \\tau_N\\}$ represents the predetermined exercise dates.\n",
    "- $g$ is the payoff function of the option.\n",
    "\n",
    "Despite its widespread significance, the valuation of early-exercise features remains a dif- ficult problem in many important settings where there is no analytical solution, even for relatively simple models.\n",
    "However, binomial, lattice and finite-difference methods can be used to generate numerical solutions to pricing problems with one or two sources of uncertainty.  \n",
    "For this project, we will study\n",
    "__The Nested Monte Carlo approach using Random Tree Method__ developed by __Broadie and Glasserman__ in :  \n",
    "Mark Broadie and Paul Glasserman. “Pricing American-style securities using simu- lation”. In: Journal of economic dynamics and control 21.8-9 (1997), pp. 1323–1352. [PDF File](https://github.com/AimadeddineHakim/Monte-Carlo_Bermudean/blob/58df1dc837a887d38b56a4bb70de243b81c5b809/broadie_glasserman.pdf)\n"
   ]
  },
  {
   "cell_type": "markdown",
   "metadata": {
    "id": "p5rNhdQ2oJr6"
   },
   "source": [
    "We define the class of trees"
   ]
  },
  {
   "cell_type": "code",
   "execution_count": 14,
   "metadata": {
    "id": "NOD0039OoGam"
   },
   "outputs": [],
   "source": [
    "class Arbre():\n",
    "    def __init__(self,val=0,children=None):\n",
    "        self.val=val\n",
    "        self.children=children\n",
    "    def __str__(self):\n",
    "        child= None\n",
    "        if not self.children or not self.children[0] : child=[Node for Node in self.children]\n",
    "        else : child=[Node.val for Node in self.children]\n",
    "        return \"Root : {}, Children : {}\".format(self.val,child)"
   ]
  },
  {
   "cell_type": "markdown",
   "metadata": {},
   "source": [
    "Suppose the stock price follows a geometric brownian motion given by the dynamic :\n",
    "\n",
    "$$ dS_{t} = r S_{t} dt + \\sigma S_{t} dW_{t} $$  \n",
    "  \n",
    "  Where $W_{t}$ is the brownian motion, $r$ is the short rate and $\\sigma$ is the volatility.  \n",
    "  \n",
    "  \n",
    "From this equation we can derive the recursive solution that gives S_next at a current node given its value S:  \n",
    "$$S_{t+1} = S_{t} e^{(r - \\frac{\\sigma^{2}}{2})\\Delta t + \\sigma \\sqrt{\\Delta t} \\cdot Z_{t+1}}$$  \n",
    "  \n",
    "  Where $\\Delta t$ is the time step and $(Z_{1}, Z_{2} ... Z_{N})$ is a vector of independent standardized normal variables."
   ]
  },
  {
   "cell_type": "code",
   "execution_count": 15,
   "metadata": {
    "id": "lm5FKXt5q5Kt"
   },
   "outputs": [],
   "source": [
    "def S_next(s0,r,gamma,sigma,time_delta):\n",
    "    return s0*np.exp((r-gamma-(sigma**2)/2)*(time_delta)+sigma*math.sqrt(time_delta)*np.random.normal())"
   ]
  },
  {
   "cell_type": "markdown",
   "metadata": {},
   "source": [
    "We fill our tree with the simulated values of the state variable S (the price of the underlying asset) starting at S0"
   ]
  },
  {
   "cell_type": "code",
   "execution_count": 16,
   "metadata": {
    "id": "PcTBxHSKsnMk"
   },
   "outputs": [],
   "source": [
    "# T is the final time, S0 the spot price at time t=0 and d is the branching parameter\n",
    "def option_tree(s0,T,d):\n",
    "    if T:\n",
    "        children=[]\n",
    "        for i in range(d):\n",
    "            children.append(option_tree(S_next(s0,r,gamma,sigma,time_delta),T-1,d))\n",
    "        return Arbre(s0,children)"
   ]
  },
  {
   "cell_type": "markdown",
   "metadata": {},
   "source": [
    "### Dynamic Programming Principle "
   ]
  },
  {
   "cell_type": "markdown",
   "metadata": {},
   "source": [
    "\n",
    "Let $g_i$ denote the payoff of the option at time $t_i$ and $V_i(s)$ the value of the option at $t_i$ given $S_i = s$, assuming the option has not been exercised before time $t_i$. Our goal is to price the Bermudean option at time 0, meaning we need to compute $V_0(S_0)$.\n",
    "\n",
    "In discrete time, the Dynamic Programming Principle (DPP) offers a characterization of the option as follows:\n",
    "\n",
    "- For the final time step $N$:\n",
    "\n",
    "$$V_N(s) = g_N(s)$$\n",
    "\n",
    "- For an intermediary time step $i-1$:\n",
    "\n",
    "$$V_{i-1}(s) = \\max \\left( g_{i-1}(s), \\mathbb{E}\\left[ e^{-r\\Delta} V_i(S_i) \\,|\\, S_{i-1} = s \\right] \\right)$$  \n",
    "So, in order to compute the option value at time 0, we need make an approximation of :  \n",
    "  \n",
    "  $$ \\mathbb{E}\\left[ e^{-r\\Delta} V_i(S_i) \\,|\\, S_{i-1} = s \\right] $$\n"
   ]
  },
  {
   "cell_type": "markdown",
   "metadata": {},
   "source": [
    "# Part 1"
   ]
  },
  {
   "cell_type": "markdown",
   "metadata": {},
   "source": [
    "We first lay the recursive method that will allow us to compute the __high estimator__ of a Bermudean call option using the Dynamic Programming as described in the article [PDF File](https://github.com/AimadeddineHakim/Monte-Carlo_Bermudean/blob/58df1dc837a887d38b56a4bb70de243b81c5b809/broadie_glasserman.pdf)\n",
    "\n"
   ]
  },
  {
   "cell_type": "code",
   "execution_count": 17,
   "metadata": {
    "id": "Y0Dp23v-wFFE"
   },
   "outputs": [],
   "source": [
    "# t is a tree and k the strike of the Bermudean call option\n",
    "def payoff(t,k,r,time_delta):\n",
    "    if not t: return None #if empty Tree\n",
    "    elif not t.children or not t.children[0]:                                           \n",
    "        return Arbre(max(0,k-t.val),t.children)\n",
    "    else: \n",
    "        children=[]\n",
    "        nodes=[]\n",
    "        for child in t.children:\n",
    "            children.append(payoff(child,k,r,time_delta))\n",
    "            nodes.append(children[-1].val)\n",
    "        return Arbre(max(max(k-t.val,0),np.exp(-r*time_delta)*np.mean(nodes)),children)"
   ]
  },
  {
   "cell_type": "markdown",
   "metadata": {
    "id": "XPQff-TBU7-Q"
   },
   "source": [
    "# Part 2"
   ]
  },
  {
   "cell_type": "markdown",
   "metadata": {
    "id": "aR-d-CX-WCPH"
   },
   "source": [
    "We first lay the recursive method that will allow us to compute the __low estimator__ of a Bermudean call option as described in the article. [PDF File](https://github.com/AimadeddineHakim/Monte-Carlo_Bermudean/blob/58df1dc837a887d38b56a4bb70de243b81c5b809/broadie_glasserman.pdf)\n",
    "\n"
   ]
  },
  {
   "cell_type": "code",
   "execution_count": 18,
   "metadata": {
    "id": "VAFaajaiVEGi"
   },
   "outputs": [],
   "source": [
    "def rec(arbre,k,r,time_delta):\n",
    "    if not arbre : return None\n",
    "    if not arbre.children or not  arbre.children[0]: return Arbre(max(0,k-arbre.val),arbre.children)\n",
    "    children=[]\n",
    "    nodes=[]\n",
    "    for child in arbre.children:\n",
    "        children.append(rec(child,k,r,time_delta))\n",
    "        nodes.append(children[-1].val)\n",
    "        val=0\n",
    "    for i in range(len(nodes)):\n",
    "        if max(0,k-arbre.val)>=np.exp(-r*time_delta)*((sum(nodes)-nodes[i])/(len(nodes)-1)):\n",
    "            children[i].val=max(0,k-arbre.val)\n",
    "        else:\n",
    "            children[i].val=np.exp(-r*time_delta)*children[i].val\n",
    "        val+=children[i].val\n",
    "    return Arbre(val/len(nodes),children)  "
   ]
  },
  {
   "cell_type": "markdown",
   "metadata": {},
   "source": [
    "# Part 3"
   ]
  },
  {
   "cell_type": "markdown",
   "metadata": {},
   "source": [
    "We compute the average and the standard deviation of the low and high estimators given $s_0$ and a maturity $T$"
   ]
  },
  {
   "cell_type": "code",
   "execution_count": 19,
   "metadata": {
    "id": "6HMT5VF2eM3c"
   },
   "outputs": [],
   "source": [
    "def deviance_low(s0,T,d,r,time_delta,k,n_simul):\n",
    "    teta=[]\n",
    "    for i in tqdm(range(n_simul)):\n",
    "        teta.append(rec(option_tree(s0,T,d),k,r,time_delta).val)\n",
    "    m = np.mean(teta)\n",
    "    s = np.std(teta, ddof = 1)\n",
    "    return m, s\n",
    "\n",
    "def deviance_high(s0,T,d,r,time_delta,k,n_simul):\n",
    "    teta=[]\n",
    "    for i in tqdm(range(n_simul)):\n",
    "        teta.append(payoff(option_tree(s0,T,d),k,r,time_delta).val)\n",
    "\n",
    "    m = np.mean(teta)\n",
    "    s = np.std(teta, ddof = 1)\n",
    "    return m, s\n",
    "  \n",
    "def interval(s0,T,d,r,time_delta,k,n_simul):\n",
    "    m_low, s_low = deviance_low(s0,T,d,r,time_delta,k,n_simul)\n",
    "    m_high, s_high = deviance_high(s0,T,d,r,time_delta,k,n_simul)\n",
    "    return m_low-1.96*s_low/np.sqrt(n_simul), m_high+1.96*s_high/np.sqrt(n_simul),  m_low, m_high\n",
    "\n",
    "def IC_Inf(s0,T,d,r,time_delta,k,n_simul):\n",
    "    m_low, s_low = deviance_low(s0,T,d,r,time_delta,k,n_simul)\n",
    "    return m_low-1.96*s_low/np.sqrt(n_simul)\n",
    "\n",
    "def IC_Sup(s0,T,d,r,time_delta,k,n_simul):\n",
    "    m_high, s_high = deviance_high(s0,T,d,r,time_delta,k,n_simul)\n",
    "    return m_high+1.96*s_high/np.sqrt(n_simul)\n",
    "\n",
    "def t_low(s0,T,d,r,time_delta,k,n_simul):\n",
    "    m_low, s_low = deviance_low(s0,T,d,r,time_delta,k,n_simul)\n",
    "    return m_low\n",
    "\n",
    "def t_high(s0,T,d,r,time_delta,k,n_simul):\n",
    "    m_high, s_high = deviance_high(s0,T,d,r,time_delta,k,n_simul)\n",
    "    return m_high"
   ]
  },
  {
   "cell_type": "markdown",
   "metadata": {
    "id": "qC9YzLmRscp5"
   },
   "source": [
    "We plot the exact value of a European call option value and compare it to our point estimate of the Bermudean call option value for different spot prices. "
   ]
  },
  {
   "cell_type": "code",
   "execution_count": 20,
   "metadata": {
    "colab": {
     "base_uri": "https://localhost:8080/"
    },
    "id": "xqJMgVkoVrss",
    "outputId": "ef4254b3-5dc0-4cb0-e743-7f6fd14fe84d"
   },
   "outputs": [
    {
     "name": "stderr",
     "output_type": "stream",
     "text": [
      "100%|████████████████████████████████████████| 100/100 [00:00<00:00, 232.75it/s]\n",
      "100%|████████████████████████████████████████| 100/100 [00:00<00:00, 257.85it/s]\n",
      "100%|████████████████████████████████████████| 100/100 [00:00<00:00, 241.44it/s]\n",
      "100%|████████████████████████████████████████| 100/100 [00:00<00:00, 250.42it/s]\n",
      "100%|████████████████████████████████████████| 100/100 [00:00<00:00, 235.55it/s]\n",
      "100%|████████████████████████████████████████| 100/100 [00:00<00:00, 257.07it/s]\n",
      "100%|████████████████████████████████████████| 100/100 [00:00<00:00, 242.40it/s]\n",
      "100%|████████████████████████████████████████| 100/100 [00:00<00:00, 253.61it/s]\n",
      "100%|████████████████████████████████████████| 100/100 [00:00<00:00, 248.12it/s]\n",
      "100%|████████████████████████████████████████| 100/100 [00:00<00:00, 258.32it/s]\n",
      "100%|████████████████████████████████████████| 100/100 [00:00<00:00, 249.23it/s]\n",
      "100%|████████████████████████████████████████| 100/100 [00:00<00:00, 257.32it/s]\n",
      "100%|████████████████████████████████████████| 100/100 [00:00<00:00, 250.27it/s]\n",
      "100%|████████████████████████████████████████| 100/100 [00:00<00:00, 258.87it/s]\n",
      "100%|████████████████████████████████████████| 100/100 [00:00<00:00, 249.62it/s]\n",
      "100%|████████████████████████████████████████| 100/100 [00:00<00:00, 259.09it/s]\n",
      "100%|████████████████████████████████████████| 100/100 [00:00<00:00, 248.78it/s]\n",
      "100%|████████████████████████████████████████| 100/100 [00:00<00:00, 258.70it/s]\n",
      "100%|████████████████████████████████████████| 100/100 [00:00<00:00, 244.69it/s]\n",
      "100%|████████████████████████████████████████| 100/100 [00:00<00:00, 242.59it/s]\n",
      "100%|████████████████████████████████████████| 100/100 [00:00<00:00, 242.26it/s]\n",
      "100%|████████████████████████████████████████| 100/100 [00:00<00:00, 244.92it/s]\n",
      "100%|████████████████████████████████████████| 100/100 [00:00<00:00, 248.01it/s]\n",
      "100%|████████████████████████████████████████| 100/100 [00:00<00:00, 248.44it/s]\n",
      "100%|████████████████████████████████████████| 100/100 [00:00<00:00, 248.85it/s]\n",
      "100%|████████████████████████████████████████| 100/100 [00:00<00:00, 249.71it/s]\n",
      "100%|████████████████████████████████████████| 100/100 [00:00<00:00, 248.01it/s]\n",
      "100%|████████████████████████████████████████| 100/100 [00:00<00:00, 255.49it/s]\n",
      "100%|████████████████████████████████████████| 100/100 [00:00<00:00, 255.34it/s]\n",
      "100%|████████████████████████████████████████| 100/100 [00:00<00:00, 257.32it/s]\n",
      "100%|████████████████████████████████████████| 100/100 [00:00<00:00, 258.09it/s]\n",
      "100%|████████████████████████████████████████| 100/100 [00:00<00:00, 256.86it/s]\n",
      "100%|████████████████████████████████████████| 100/100 [00:00<00:00, 257.78it/s]\n",
      "100%|████████████████████████████████████████| 100/100 [00:00<00:00, 257.24it/s]\n",
      "100%|████████████████████████████████████████| 100/100 [00:00<00:00, 258.44it/s]\n",
      "100%|████████████████████████████████████████| 100/100 [00:00<00:00, 257.33it/s]\n",
      "100%|████████████████████████████████████████| 100/100 [00:00<00:00, 244.82it/s]\n",
      "100%|████████████████████████████████████████| 100/100 [00:00<00:00, 242.25it/s]\n",
      "100%|████████████████████████████████████████| 100/100 [00:00<00:00, 243.37it/s]\n",
      "100%|████████████████████████████████████████| 100/100 [00:00<00:00, 245.89it/s]\n",
      "100%|████████████████████████████████████████| 100/100 [00:00<00:00, 246.51it/s]\n",
      "100%|████████████████████████████████████████| 100/100 [00:00<00:00, 244.89it/s]\n",
      "100%|████████████████████████████████████████| 100/100 [00:00<00:00, 243.46it/s]\n",
      "100%|████████████████████████████████████████| 100/100 [00:00<00:00, 242.28it/s]\n",
      "100%|████████████████████████████████████████| 100/100 [00:00<00:00, 242.60it/s]\n",
      "100%|████████████████████████████████████████| 100/100 [00:00<00:00, 254.39it/s]\n",
      "100%|████████████████████████████████████████| 100/100 [00:00<00:00, 256.93it/s]\n",
      "100%|████████████████████████████████████████| 100/100 [00:00<00:00, 256.71it/s]\n",
      "100%|████████████████████████████████████████| 100/100 [00:00<00:00, 254.23it/s]\n",
      "100%|████████████████████████████████████████| 100/100 [00:00<00:00, 255.17it/s]\n",
      "100%|████████████████████████████████████████| 100/100 [00:00<00:00, 254.18it/s]\n",
      "100%|████████████████████████████████████████| 100/100 [00:00<00:00, 253.69it/s]\n",
      "100%|████████████████████████████████████████| 100/100 [00:00<00:00, 257.02it/s]\n",
      "100%|████████████████████████████████████████| 100/100 [00:00<00:00, 255.79it/s]\n"
     ]
    }
   ],
   "source": [
    "k,r,sigma,gamma,T = 100,0.05,0.2,0,3\n",
    "n_simul,d,time_delta = 100,10,1\n",
    "s0_list = np.arange(70,240,20)\n",
    "intervals = [interval(s0,T,d,r,time_delta,k,n_simul) for s0 in s0_list]\n",
    "IC_Infs = [IC_Inf(s0,T,d,r,time_delta,k,n_simul) for s0 in s0_list]\n",
    "IC_Sups = [IC_Sup(s0,T,d,r,time_delta,k,n_simul) for s0 in s0_list]\n",
    "t_lows = [t_low(s0,T,d,r,time_delta,k,n_simul) for s0 in s0_list]\n",
    "t_highs = [t_high(s0,T,d,r,time_delta,k,n_simul) for s0 in s0_list]\n",
    "point_estimate = (np.array(t_highs) + np.array(t_lows))/2"
   ]
  },
  {
   "cell_type": "code",
   "execution_count": 12,
   "metadata": {
    "colab": {
     "base_uri": "https://localhost:8080/",
     "height": 313
    },
    "id": "Hk42Y6tlcdIB",
    "outputId": "02a7e24e-9640-476b-e691-964edb19a9f1"
   },
   "outputs": [
    {
     "data": {
      "text/plain": [
       "<matplotlib.legend.Legend at 0x7fea210b8e20>"
      ]
     },
     "execution_count": 12,
     "metadata": {},
     "output_type": "execute_result"
    },
    {
     "data": {
      "image/png": "[encoded data removed]",
      "text/plain": [
       "<Figure size 432x288 with 1 Axes>"
      ]
     },
     "metadata": {
      "needs_background": "light"
     },
     "output_type": "display_data"
    }
   ],
   "source": [
    "plt.figure()\n",
    "plt.plot(s0_list,point_estimate,c=\"black\",label=\"Point Estimate\")\n",
    "plt.plot(s0_list,IC_Sups,c=\"red\",label=\"MC Upper Bound\")\n",
    "plt.plot(s0_list,IC_Infs,c=\"purple\",label=\"MC Lower Bound\")\n",
    "plt.xlabel(\"Spot Price\")\n",
    "plt.ylabel(\"Option Value\")\n",
    "plt.title(\"Pricing a Bermudean call option at t = 0\", loc = \"center\")\n",
    "plt.legend(loc=\"best\")"
   ]
  },
  {
   "cell_type": "code",
   "execution_count": null,
   "metadata": {},
   "outputs": [],
   "source": []
  }
 ],
 "metadata": {
  "colab": {
   "collapsed_sections": [],
   "name": "TP_AIMAD",
   "provenance": []
  },
  "kernelspec": {
   "display_name": "Python 3 (ipykernel)",
   "language": "python",
   "name": "python3"
  },
  "language_info": {
   "codemirror_mode": {
    "name": "ipython",
    "version": 3
   },
   "file_extension": ".py",
   "mimetype": "text/x-python",
   "name": "python",
   "nbconvert_exporter": "python",
   "pygments_lexer": "ipython3",
   "version": "3.9.12"
  }
 },
 "nbformat": 4,
 "nbformat_minor": 1
}
